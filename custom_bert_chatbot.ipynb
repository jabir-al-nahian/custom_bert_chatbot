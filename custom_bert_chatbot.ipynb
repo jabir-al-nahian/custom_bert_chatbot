{
  "cells": [
    {
      "cell_type": "markdown",
      "metadata": {
        "id": "view-in-github",
        "colab_type": "text"
      },
      "source": [
        "<a href=\"https://colab.research.google.com/github/jabir-al-nahian/custom_bert_chatbot/blob/main/custom_bert_chatbot.ipynb\" target=\"_parent\"><img src=\"https://colab.research.google.com/assets/colab-badge.svg\" alt=\"Open In Colab\"/></a>"
      ]
    },
    {
      "cell_type": "code",
      "execution_count": null,
      "metadata": {
        "colab": {
          "base_uri": "https://localhost:8080/",
          "height": 363
        },
        "id": "eYfNjkXqj_g7",
        "outputId": "b4e9a696-d433-4016-b9e8-70c64b58d27d"
      },
      "outputs": [
        {
          "output_type": "execute_result",
          "data": {
            "text/plain": [
              "                                           questions  \\\n",
              "0                     When was Albert Einstein born?   \n",
              "1                                 Where was he born?   \n",
              "2                                   When did he die?   \n",
              "3                              Who were his parents?   \n",
              "4              Did he have any sisters and brothers?   \n",
              "5                    Did he marry and have children?   \n",
              "6                Where did he receive his education?   \n",
              "7  When was Albert Einstein awarded the Nobel Pri...   \n",
              "8  Did Albert Einstein attend the Nobel Prize Awa...   \n",
              "9           For what did he receive the Nobel Prize?   \n",
              "\n",
              "                                             answers  \n",
              "0         Albert Einstein was born on 14 March 1879.  \n",
              "1                      He was born in Ulm, Germany.   \n",
              "2  He died 18 April 1955 in Princeton, New Jersey...  \n",
              "3  His father was Hermann Einstein and his mother...  \n",
              "4                      He had one sister named Maja.  \n",
              "5  He was married to Mileva Marić between 1903 an...  \n",
              "6  He received his main education at the followin...  \n",
              "7  The Nobel Prize Awarding Institution, the Roya...  \n",
              "8  The Nobel Prize was announced on 9 November 19...  \n",
              "9  Einstein was rewarded for his many contributio...  "
            ],
            "text/html": [
              "\n",
              "  <div id=\"df-e0f0f15b-0f89-4c96-9deb-c61491fa098e\">\n",
              "    <div class=\"colab-df-container\">\n",
              "      <div>\n",
              "<style scoped>\n",
              "    .dataframe tbody tr th:only-of-type {\n",
              "        vertical-align: middle;\n",
              "    }\n",
              "\n",
              "    .dataframe tbody tr th {\n",
              "        vertical-align: top;\n",
              "    }\n",
              "\n",
              "    .dataframe thead th {\n",
              "        text-align: right;\n",
              "    }\n",
              "</style>\n",
              "<table border=\"1\" class=\"dataframe\">\n",
              "  <thead>\n",
              "    <tr style=\"text-align: right;\">\n",
              "      <th></th>\n",
              "      <th>questions</th>\n",
              "      <th>answers</th>\n",
              "    </tr>\n",
              "  </thead>\n",
              "  <tbody>\n",
              "    <tr>\n",
              "      <th>0</th>\n",
              "      <td>When was Albert Einstein born?</td>\n",
              "      <td>Albert Einstein was born on 14 March 1879.</td>\n",
              "    </tr>\n",
              "    <tr>\n",
              "      <th>1</th>\n",
              "      <td>Where was he born?</td>\n",
              "      <td>He was born in Ulm, Germany.</td>\n",
              "    </tr>\n",
              "    <tr>\n",
              "      <th>2</th>\n",
              "      <td>When did he die?</td>\n",
              "      <td>He died 18 April 1955 in Princeton, New Jersey...</td>\n",
              "    </tr>\n",
              "    <tr>\n",
              "      <th>3</th>\n",
              "      <td>Who were his parents?</td>\n",
              "      <td>His father was Hermann Einstein and his mother...</td>\n",
              "    </tr>\n",
              "    <tr>\n",
              "      <th>4</th>\n",
              "      <td>Did he have any sisters and brothers?</td>\n",
              "      <td>He had one sister named Maja.</td>\n",
              "    </tr>\n",
              "    <tr>\n",
              "      <th>5</th>\n",
              "      <td>Did he marry and have children?</td>\n",
              "      <td>He was married to Mileva Marić between 1903 an...</td>\n",
              "    </tr>\n",
              "    <tr>\n",
              "      <th>6</th>\n",
              "      <td>Where did he receive his education?</td>\n",
              "      <td>He received his main education at the followin...</td>\n",
              "    </tr>\n",
              "    <tr>\n",
              "      <th>7</th>\n",
              "      <td>When was Albert Einstein awarded the Nobel Pri...</td>\n",
              "      <td>The Nobel Prize Awarding Institution, the Roya...</td>\n",
              "    </tr>\n",
              "    <tr>\n",
              "      <th>8</th>\n",
              "      <td>Did Albert Einstein attend the Nobel Prize Awa...</td>\n",
              "      <td>The Nobel Prize was announced on 9 November 19...</td>\n",
              "    </tr>\n",
              "    <tr>\n",
              "      <th>9</th>\n",
              "      <td>For what did he receive the Nobel Prize?</td>\n",
              "      <td>Einstein was rewarded for his many contributio...</td>\n",
              "    </tr>\n",
              "  </tbody>\n",
              "</table>\n",
              "</div>\n",
              "      <button class=\"colab-df-convert\" onclick=\"convertToInteractive('df-e0f0f15b-0f89-4c96-9deb-c61491fa098e')\"\n",
              "              title=\"Convert this dataframe to an interactive table.\"\n",
              "              style=\"display:none;\">\n",
              "        \n",
              "  <svg xmlns=\"http://www.w3.org/2000/svg\" height=\"24px\"viewBox=\"0 0 24 24\"\n",
              "       width=\"24px\">\n",
              "    <path d=\"M0 0h24v24H0V0z\" fill=\"none\"/>\n",
              "    <path d=\"M18.56 5.44l.94 2.06.94-2.06 2.06-.94-2.06-.94-.94-2.06-.94 2.06-2.06.94zm-11 1L8.5 8.5l.94-2.06 2.06-.94-2.06-.94L8.5 2.5l-.94 2.06-2.06.94zm10 10l.94 2.06.94-2.06 2.06-.94-2.06-.94-.94-2.06-.94 2.06-2.06.94z\"/><path d=\"M17.41 7.96l-1.37-1.37c-.4-.4-.92-.59-1.43-.59-.52 0-1.04.2-1.43.59L10.3 9.45l-7.72 7.72c-.78.78-.78 2.05 0 2.83L4 21.41c.39.39.9.59 1.41.59.51 0 1.02-.2 1.41-.59l7.78-7.78 2.81-2.81c.8-.78.8-2.07 0-2.86zM5.41 20L4 18.59l7.72-7.72 1.47 1.35L5.41 20z\"/>\n",
              "  </svg>\n",
              "      </button>\n",
              "      \n",
              "  <style>\n",
              "    .colab-df-container {\n",
              "      display:flex;\n",
              "      flex-wrap:wrap;\n",
              "      gap: 12px;\n",
              "    }\n",
              "\n",
              "    .colab-df-convert {\n",
              "      background-color: #E8F0FE;\n",
              "      border: none;\n",
              "      border-radius: 50%;\n",
              "      cursor: pointer;\n",
              "      display: none;\n",
              "      fill: #1967D2;\n",
              "      height: 32px;\n",
              "      padding: 0 0 0 0;\n",
              "      width: 32px;\n",
              "    }\n",
              "\n",
              "    .colab-df-convert:hover {\n",
              "      background-color: #E2EBFA;\n",
              "      box-shadow: 0px 1px 2px rgba(60, 64, 67, 0.3), 0px 1px 3px 1px rgba(60, 64, 67, 0.15);\n",
              "      fill: #174EA6;\n",
              "    }\n",
              "\n",
              "    [theme=dark] .colab-df-convert {\n",
              "      background-color: #3B4455;\n",
              "      fill: #D2E3FC;\n",
              "    }\n",
              "\n",
              "    [theme=dark] .colab-df-convert:hover {\n",
              "      background-color: #434B5C;\n",
              "      box-shadow: 0px 1px 3px 1px rgba(0, 0, 0, 0.15);\n",
              "      filter: drop-shadow(0px 1px 2px rgba(0, 0, 0, 0.3));\n",
              "      fill: #FFFFFF;\n",
              "    }\n",
              "  </style>\n",
              "\n",
              "      <script>\n",
              "        const buttonEl =\n",
              "          document.querySelector('#df-e0f0f15b-0f89-4c96-9deb-c61491fa098e button.colab-df-convert');\n",
              "        buttonEl.style.display =\n",
              "          google.colab.kernel.accessAllowed ? 'block' : 'none';\n",
              "\n",
              "        async function convertToInteractive(key) {\n",
              "          const element = document.querySelector('#df-e0f0f15b-0f89-4c96-9deb-c61491fa098e');\n",
              "          const dataTable =\n",
              "            await google.colab.kernel.invokeFunction('convertToInteractive',\n",
              "                                                     [key], {});\n",
              "          if (!dataTable) return;\n",
              "\n",
              "          const docLinkHtml = 'Like what you see? Visit the ' +\n",
              "            '<a target=\"_blank\" href=https://colab.research.google.com/notebooks/data_table.ipynb>data table notebook</a>'\n",
              "            + ' to learn more about interactive tables.';\n",
              "          element.innerHTML = '';\n",
              "          dataTable['output_type'] = 'display_data';\n",
              "          await google.colab.output.renderOutput(dataTable, element);\n",
              "          const docLink = document.createElement('div');\n",
              "          docLink.innerHTML = docLinkHtml;\n",
              "          element.appendChild(docLink);\n",
              "        }\n",
              "      </script>\n",
              "    </div>\n",
              "  </div>\n",
              "  "
            ]
          },
          "metadata": {},
          "execution_count": 1
        }
      ],
      "source": [
        "import pandas as pd;\n",
        "df=pd.read_csv(\"/content/FAQs.csv\");\n",
        "df.columns=[\"questions\",\"answers\"];\n",
        "\n",
        "df"
      ]
    },
    {
      "cell_type": "code",
      "execution_count": null,
      "metadata": {
        "colab": {
          "base_uri": "https://localhost:8080/"
        },
        "id": "ui8ksrGDkNNe",
        "outputId": "ccfd557f-3c0b-456e-f87d-52cb403c5acb"
      },
      "outputs": [
        {
          "output_type": "stream",
          "name": "stdout",
          "text": [
            "['albert einstein born', 'born', 'die', 'parents', 'sisters brothers', 'marry children', 'receive education', 'albert einstein awarded nobel prize physics', 'albert einstein attend nobel prize award ceremony', 'receive nobel prize']\n",
            "\n",
            "\n",
            "['when was albert einstein born', 'where was he born', 'when did he die', 'who were his parents', 'did he have any sisters and brothers', 'did he marry and have children', 'where did he receive his education', 'when was albert einstein awarded the nobel prize in physics', 'did albert einstein attend the nobel prize award ceremony', 'for what did he receive the nobel prize']\n"
          ]
        }
      ],
      "source": [
        "import re\n",
        "import gensim\n",
        "from gensim.parsing.preprocessing import remove_stopwords\n",
        "\n",
        "#from nltk.stem.lancaster import LancasterStemmer\n",
        "#st = LancasterStemmer()\n",
        "\n",
        "def clean_sentence(sentence, stopwords=False):\n",
        "\n",
        "    sentence = sentence.lower().strip()\n",
        "    sentence = re.sub(r'[^a-z0-9\\s]', '', sentence)\n",
        "    #sentence = re.sub(r'\\s{2,}', ' ', sentence)\n",
        "\n",
        "    if stopwords:\n",
        "         sentence = remove_stopwords(sentence)\n",
        "\n",
        "    #sent_stemmed='';\n",
        "    #for word in sentence.split():\n",
        "    #    sent_stemmed+=' '+st.stem(word)\n",
        "    #sentence=sent_stemmed\n",
        "\n",
        "    return sentence\n",
        "\n",
        "def get_cleaned_sentences(df,stopwords=False):\n",
        "    sents=df[[\"questions\"]];\n",
        "    cleaned_sentences=[]\n",
        "\n",
        "    for index,row in df.iterrows():\n",
        "        #print(index,row)\n",
        "        cleaned=clean_sentence(row[\"questions\"],stopwords);\n",
        "        cleaned_sentences.append(cleaned);\n",
        "    return cleaned_sentences;\n",
        "\n",
        "cleaned_sentences=get_cleaned_sentences(df,stopwords=True)\n",
        "print(cleaned_sentences);\n",
        "\n",
        "print(\"\\n\")\n",
        "\n",
        "cleaned_sentences_with_stopwords=get_cleaned_sentences(df,stopwords=False)\n",
        "print(cleaned_sentences_with_stopwords);"
      ]
    },
    {
      "cell_type": "code",
      "execution_count": null,
      "metadata": {
        "colab": {
          "base_uri": "https://localhost:8080/"
        },
        "id": "wR4FMBAfkR7v",
        "outputId": "1108a967-cb11-4d9f-acd0-29e9dcb8d8e4"
      },
      "outputs": [
        {
          "output_type": "stream",
          "name": "stdout",
          "text": [
            "0  :  albert\n",
            "1  :  born\n",
            "2  :  einstein\n",
            "3  :  was\n",
            "4  :  when\n",
            "5  :  he\n",
            "6  :  where\n",
            "7  :  did\n",
            "8  :  die\n",
            "9  :  his\n",
            "10  :  parents\n",
            "11  :  were\n",
            "12  :  who\n",
            "13  :  and\n",
            "14  :  any\n",
            "15  :  brothers\n",
            "16  :  have\n",
            "17  :  sisters\n",
            "18  :  children\n",
            "19  :  marry\n",
            "20  :  education\n",
            "21  :  receive\n",
            "22  :  awarded\n",
            "23  :  in\n",
            "24  :  nobel\n",
            "25  :  physics\n",
            "26  :  prize\n",
            "27  :  the\n",
            "28  :  attend\n",
            "29  :  award\n",
            "30  :  ceremony\n",
            "31  :  for\n",
            "32  :  what\n",
            "when was albert einstein born\n",
            "[(0, 1), (1, 1), (2, 1), (3, 1), (4, 1)]\n",
            "where was he born\n",
            "[(1, 1), (3, 1), (5, 1), (6, 1)]\n",
            "when did he die\n",
            "[(4, 1), (5, 1), (7, 1), (8, 1)]\n",
            "who were his parents\n",
            "[(9, 1), (10, 1), (11, 1), (12, 1)]\n",
            "did he have any sisters and brothers\n",
            "[(5, 1), (7, 1), (13, 1), (14, 1), (15, 1), (16, 1), (17, 1)]\n",
            "did he marry and have children\n",
            "[(5, 1), (7, 1), (13, 1), (16, 1), (18, 1), (19, 1)]\n",
            "where did he receive his education\n",
            "[(5, 1), (6, 1), (7, 1), (9, 1), (20, 1), (21, 1)]\n",
            "when was albert einstein awarded the nobel prize in physics\n",
            "[(0, 1), (2, 1), (3, 1), (4, 1), (22, 1), (23, 1), (24, 1), (25, 1), (26, 1), (27, 1)]\n",
            "did albert einstein attend the nobel prize award ceremony\n",
            "[(0, 1), (2, 1), (7, 1), (24, 1), (26, 1), (27, 1), (28, 1), (29, 1), (30, 1)]\n",
            "for what did he receive the nobel prize\n",
            "[(5, 1), (7, 1), (21, 1), (24, 1), (26, 1), (27, 1), (31, 1), (32, 1)]\n",
            "\n",
            "\n",
            " when was albert einstein born  \n",
            " [(0, 1), (1, 1), (2, 1), (3, 1), (4, 1)]\n"
          ]
        }
      ],
      "source": [
        "import numpy\n",
        "\n",
        "sentences=cleaned_sentences_with_stopwords\n",
        "#sentences=cleaned_sentences\n",
        "\n",
        "# Split it by white space\n",
        "sentence_words = [[word for word in document.split() ]\n",
        "         for document in sentences]\n",
        "\n",
        "from gensim import corpora\n",
        "\n",
        "dictionary = corpora.Dictionary(sentence_words)\n",
        "for key, value in dictionary.items():\n",
        "    print(key, ' : ', value)\n",
        "\n",
        "import pprint\n",
        "bow_corpus = [dictionary.doc2bow(text) for text in sentence_words]\n",
        "for sent,embedding in zip(sentences,bow_corpus):\n",
        "    print(sent)\n",
        "    print(embedding)\n",
        "\n",
        "#question_orig=\"do I need to learn algorithms to be a data scientist ?\";\n",
        "question_orig=\"When was Albert Einstein born ?\"\n",
        "question=clean_sentence(question_orig,stopwords=False);\n",
        "question_embedding = dictionary.doc2bow(question.split())\n",
        "\n",
        "\n",
        "print(\"\\n\\n\",question,\"\\n\",question_embedding)"
      ]
    },
    {
      "cell_type": "code",
      "execution_count": null,
      "metadata": {
        "colab": {
          "base_uri": "https://localhost:8080/"
        },
        "id": "NbOGKW4SkVIW",
        "outputId": "5ee30da1-4358-4627-bb95-f3ca86981088"
      },
      "outputs": [
        {
          "output_type": "stream",
          "name": "stdout",
          "text": [
            "0 1.0 when was albert einstein born\n",
            "1 0.7071067811865475 where was he born\n",
            "2 0.24253562503633297 when did he die\n",
            "3 0.11043152607484653 who were his parents\n",
            "4 0.19611613513818404 did he have any sisters and brothers\n",
            "5 0.19611613513818404 did he marry and have children\n",
            "6 0.19611613513818404 where did he receive his education\n",
            "7 1.0 when was albert einstein awarded the nobel prize in physics\n",
            "8 1.0 did albert einstein attend the nobel prize award ceremony\n",
            "9 0.19611613513818404 for what did he receive the nobel prize\n",
            "\n",
            "\n",
            "Question:  when was albert einstein born \n",
            "\n",
            "\n",
            "Retrieved:  When was Albert Einstein born?\n",
            "Albert Einstein was born on 14 March 1879.\n"
          ]
        }
      ],
      "source": [
        "import sklearn\n",
        "from sklearn.metrics.pairwise import cosine_similarity;\n",
        "def retrieveAndPrintFAQAnswer(question_embedding,sentence_embeddings,FAQdf,sentences):\n",
        "    max_sim=-1;\n",
        "    index_sim=-1;\n",
        "    for index,faq_embedding in enumerate(sentence_embeddings):\n",
        "        #sim=cosine_similarity(embedding.reshape(1, -1),question_embedding.reshape(1, -1))[0][0];\n",
        "        sim=cosine_similarity(faq_embedding,question_embedding)[0][0];\n",
        "        print(index, sim, sentences[index])\n",
        "        if sim>max_sim:\n",
        "            max_sim=sim;\n",
        "            index_sim=index;\n",
        "\n",
        "    print(\"\\n\")\n",
        "    print(\"Question: \",question)\n",
        "    print(\"\\n\");\n",
        "    print(\"Retrieved: \",FAQdf.iloc[index_sim,0])\n",
        "    print(FAQdf.iloc[index_sim,1])\n",
        "\n",
        "retrieveAndPrintFAQAnswer(question_embedding,bow_corpus,df,sentences);"
      ]
    },
    {
      "cell_type": "code",
      "execution_count": null,
      "metadata": {
        "colab": {
          "base_uri": "https://localhost:8080/"
        },
        "id": "uu1nHd0-lLil",
        "outputId": "3c306980-d9d8-44ed-cce3-658517701ef1"
      },
      "outputs": [
        {
          "output_type": "stream",
          "name": "stdout",
          "text": [
            "[==================================================] 100.0% 104.8/104.8MB downloaded\n",
            "Saved glove model\n",
            "[==================================================] 100.0% 1662.8/1662.8MB downloaded\n",
            "Saved glove model\n"
          ]
        }
      ],
      "source": [
        "from gensim.models import Word2Vec\n",
        "import gensim.downloader as api\n",
        "\n",
        "\n",
        "glove_model=None;\n",
        "try:\n",
        "    glove_model = gensim.models.KeyedVectors.load(\"./glovemodel.mod\")\n",
        "    print(\"Loaded glove model\")\n",
        "except:\n",
        "    glove_model = api.load('glove-twitter-25')\n",
        "    glove_model.save(\"./glovemodel.mod\")\n",
        "    print(\"Saved glove model\")\n",
        "\n",
        "v2w_model=None;\n",
        "try:\n",
        "    v2w_model = gensim.models.KeyedVectors.load(\"./w2vecmodel.mod\")\n",
        "    print(\"Loaded w2v model\")\n",
        "except:\n",
        "    v2w_model = api.load('word2vec-google-news-300')\n",
        "    v2w_model.save(\"./w2vecmodel.mod\")\n",
        "    print(\"Saved glove model\")\n",
        "\n",
        "w2vec_embedding_size=len(v2w_model['computer']);\n",
        "glove_embedding_size=len(glove_model['computer']);"
      ]
    },
    {
      "cell_type": "code",
      "execution_count": null,
      "metadata": {
        "id": "kFBkgaPolSRc"
      },
      "outputs": [],
      "source": [
        "def getWordVec(word,model):\n",
        "        samp=model['computer'];\n",
        "        vec=[0]*len(samp);\n",
        "        try:\n",
        "                vec=model[word];\n",
        "        except:\n",
        "                vec=[0]*len(samp);\n",
        "        return (vec)\n",
        "\n",
        "\n",
        "def getPhraseEmbedding(phrase,embeddingmodel):\n",
        "\n",
        "        samp=getWordVec('computer', embeddingmodel);\n",
        "        vec=numpy.array([0]*len(samp));\n",
        "        den=0;\n",
        "        for word in phrase.split():\n",
        "            #print(word)\n",
        "            den=den+1;\n",
        "            vec=vec+numpy.array(getWordVec(word,embeddingmodel));\n",
        "        #vec=vec/den;\n",
        "        #return (vec.tolist());\n",
        "        return vec.reshape(1, -1)"
      ]
    },
    {
      "cell_type": "code",
      "execution_count": null,
      "metadata": {
        "id": "oz4u5t0SlU3U",
        "colab": {
          "base_uri": "https://localhost:8080/"
        },
        "outputId": "e8adb5d2-0b6c-467e-98c0-617948c657ef"
      },
      "outputs": [
        {
          "output_type": "stream",
          "name": "stdout",
          "text": [
            "0 0.8638502128845564 albert einstein born\n",
            "1 0.6694598371680672 born\n",
            "2 0.28243142756108536 die\n",
            "3 0.25286840894071994 parents\n",
            "4 0.30725008020188627 sisters brothers\n",
            "5 0.38537646117043917 marry children\n",
            "6 0.11739840966719121 receive education\n",
            "7 0.43419905683258475 albert einstein awarded nobel prize physics\n",
            "8 0.40819206508311107 albert einstein attend nobel prize award ceremony\n",
            "9 0.22327438130221822 receive nobel prize\n",
            "\n",
            "\n",
            "Question:  when was albert einstein born \n",
            "\n",
            "\n",
            "Retrieved:  When was Albert Einstein born?\n",
            "Albert Einstein was born on 14 March 1879.\n"
          ]
        }
      ],
      "source": [
        "sent_embeddings=[];\n",
        "for sent in cleaned_sentences:\n",
        "    sent_embeddings.append(getPhraseEmbedding(sent,v2w_model));\n",
        "\n",
        "question_embedding=getPhraseEmbedding(question,v2w_model);\n",
        "\n",
        "retrieveAndPrintFAQAnswer(question_embedding,sent_embeddings,df, cleaned_sentences);"
      ]
    },
    {
      "cell_type": "code",
      "execution_count": null,
      "metadata": {
        "id": "l_PNQ9yilXcs",
        "colab": {
          "base_uri": "https://localhost:8080/"
        },
        "outputId": "422aa4d8-f877-4451-fbc2-62bb7207b2cc"
      },
      "outputs": [
        {
          "output_type": "stream",
          "name": "stdout",
          "text": [
            "0 0.9118603670721388 albert einstein born\n",
            "1 0.9217135254907831 born\n",
            "2 0.5944353315586562 die\n",
            "3 0.6983396513630136 parents\n",
            "4 0.791750140489032 sisters brothers\n",
            "5 0.8680346743499505 marry children\n",
            "6 0.6988570013955634 receive education\n",
            "7 0.7518386980263269 albert einstein awarded nobel prize physics\n",
            "8 0.7573800032533627 albert einstein attend nobel prize award ceremony\n",
            "9 0.60394214852902 receive nobel prize\n",
            "\n",
            "\n",
            "Question:  when was albert einstein born \n",
            "\n",
            "\n",
            "Retrieved:  Where was he born?\n",
            "He was born in Ulm, Germany. \n"
          ]
        }
      ],
      "source": [
        "sent_embeddings=[];\n",
        "for sent in cleaned_sentences:\n",
        "    sent_embeddings.append(getPhraseEmbedding(sent,glove_model));\n",
        "\n",
        "question_embedding=getPhraseEmbedding(question,glove_model);\n",
        "\n",
        "retrieveAndPrintFAQAnswer(question_embedding,sent_embeddings,df, cleaned_sentences);"
      ]
    },
    {
      "cell_type": "code",
      "execution_count": null,
      "metadata": {
        "id": "f4VESU5VpgwK",
        "colab": {
          "base_uri": "https://localhost:8080/"
        },
        "outputId": "b3ad7ec8-6eb4-44c0-ff41-9b776410a2d5"
      },
      "outputs": [
        {
          "output_type": "stream",
          "name": "stdout",
          "text": [
            "Looking in indexes: https://pypi.org/simple, https://us-python.pkg.dev/colab-wheels/public/simple/\n",
            "Collecting bert-serving-server\n",
            "  Downloading bert_serving_server-1.10.0-py3-none-any.whl (61 kB)\n",
            "\u001b[K     |████████████████████████████████| 61 kB 272 kB/s \n",
            "\u001b[?25hRequirement already satisfied: six in /usr/local/lib/python3.7/dist-packages (from bert-serving-server) (1.15.0)\n",
            "Requirement already satisfied: numpy in /usr/local/lib/python3.7/dist-packages (from bert-serving-server) (1.21.6)\n",
            "Collecting GPUtil>=1.3.0\n",
            "  Downloading GPUtil-1.4.0.tar.gz (5.5 kB)\n",
            "Requirement already satisfied: termcolor>=1.1 in /usr/local/lib/python3.7/dist-packages (from bert-serving-server) (2.1.0)\n",
            "Requirement already satisfied: pyzmq>=17.1.0 in /usr/local/lib/python3.7/dist-packages (from bert-serving-server) (23.2.1)\n",
            "Building wheels for collected packages: GPUtil\n",
            "  Building wheel for GPUtil (setup.py) ... \u001b[?25l\u001b[?25hdone\n",
            "  Created wheel for GPUtil: filename=GPUtil-1.4.0-py3-none-any.whl size=7410 sha256=8d973482bab422ef1e1ce51a26c92ac607c5904f7f58f7c61e8fa14512e5c6d0\n",
            "  Stored in directory: /root/.cache/pip/wheels/6e/f8/83/534c52482d6da64622ddbf72cd93c35d2ef2881b78fd08ff0c\n",
            "Successfully built GPUtil\n",
            "Installing collected packages: GPUtil, bert-serving-server\n",
            "Successfully installed GPUtil-1.4.0 bert-serving-server-1.10.0\n",
            "Looking in indexes: https://pypi.org/simple, https://us-python.pkg.dev/colab-wheels/public/simple/\n",
            "Collecting bert-serving-client\n",
            "  Downloading bert_serving_client-1.10.0-py2.py3-none-any.whl (28 kB)\n",
            "Requirement already satisfied: numpy in /usr/local/lib/python3.7/dist-packages (from bert-serving-client) (1.21.6)\n",
            "Requirement already satisfied: pyzmq>=17.1.0 in /usr/local/lib/python3.7/dist-packages (from bert-serving-client) (23.2.1)\n",
            "Installing collected packages: bert-serving-client\n",
            "Successfully installed bert-serving-client-1.10.0\n"
          ]
        }
      ],
      "source": [
        "!pip install bert-serving-server\n",
        "!pip install bert-serving-client"
      ]
    },
    {
      "cell_type": "code",
      "execution_count": null,
      "metadata": {
        "id": "q-wL0TgslZe7"
      },
      "outputs": [],
      "source": [
        "from bert_serving.client import BertClient\n",
        "bc = BertClient()\n",
        "res=bc.encode(['ML', 'AI'])"
      ]
    },
    {
      "cell_type": "code",
      "execution_count": null,
      "metadata": {
        "id": "OeU0pIHhlf2M"
      },
      "outputs": [],
      "source": [
        "question=clean_sentence(question_orig,stopwords=False);\n",
        "cleaned_sentences=get_cleaned_sentences(df,stopwords=False)\n",
        "\n",
        "sent_bertphrase_embeddings=[];\n",
        "for sent in cleaned_sentences:\n",
        "    sent_bertphrase_embeddings.append(bc.encode([sent]));\n",
        "\n",
        "question_embedding=bc.encode([question]);\n",
        "\n",
        "retrieveAndPrintFAQAnswer(question_embedding,sent_bertphrase_embeddings,df, cleaned_sentences);"
      ]
    },
    {
      "cell_type": "code",
      "execution_count": null,
      "metadata": {
        "id": "D4RGopBZlivN"
      },
      "outputs": [],
      "source": [
        "#With BOW, word2Vec and BERT with stopwords removed\n",
        "question_new=\"What is the date of his death\"\n",
        "\n",
        "question=clean_sentence(question_new,stopwords=True);\n",
        "cleaned_sentences=get_cleaned_sentences(df,stopwords=True)\n",
        "\n",
        "#Try  BOW\n",
        "#question_embedding = dictionary.doc2bow(question.lower().split())\n",
        "#print(\"\\n\\n With BOW\\n\\n\")\n",
        "#retrieveAndPrintFAQAnswer(question_embedding,bow_corpus,df);\n",
        "\n",
        "sent_embeddings=[];\n",
        "for sent in cleaned_sentences:\n",
        "    sent_embeddings.append(getPhraseEmbedding(sent,v2w_model));\n",
        "\n",
        "question_embedding=getPhraseEmbedding(question,v2w_model);\n",
        "\n",
        "print(\"\\n With Word2Vec\\n\\n\")\n",
        "retrieveAndPrintFAQAnswer(question_embedding,sent_embeddings,df, cleaned_sentences);\n",
        "\n",
        "question=clean_sentence(question_new,stopwords=False);\n",
        "cleaned_sentences=get_cleaned_sentences(df,stopwords=False)\n",
        "\n",
        "sent_bertphrase_embeddings=[];\n",
        "for sent in cleaned_sentences:\n",
        "    sent_bertphrase_embeddings.append(bc.encode([sent]));\n",
        "\n",
        "question_embedding=bc.encode([question]);\n",
        "\n",
        "print(\"\\n\\n With BERT\\n\\n\")\n",
        "retrieveAndPrintFAQAnswer(question_embedding,sent_bertphrase_embeddings,df, cleaned_sentences);"
      ]
    }
  ],
  "metadata": {
    "accelerator": "GPU",
    "colab": {
      "provenance": [],
      "authorship_tag": "ABX9TyN1gCQ2Ju04qxllpONkbCeI",
      "include_colab_link": true
    },
    "gpuClass": "standard",
    "kernelspec": {
      "display_name": "Python 3",
      "name": "python3"
    },
    "language_info": {
      "name": "python"
    }
  },
  "nbformat": 4,
  "nbformat_minor": 0
}